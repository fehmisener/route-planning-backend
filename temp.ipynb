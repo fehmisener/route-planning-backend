{
 "cells": [
  {
   "cell_type": "code",
   "execution_count": 22,
   "metadata": {},
   "outputs": [],
   "source": [
    "import sqlite3\n",
    "\n",
    "con = sqlite3.connect(\"database.db\", check_same_thread=False)\n",
    "# con.row_factory = sqlite3.Row\n",
    "cur = con.cursor()"
   ]
  },
  {
   "cell_type": "code",
   "execution_count": 25,
   "metadata": {},
   "outputs": [],
   "source": [
    "ilce_konum_list = [\n",
    "    (\"Basiskele\", 40.714563454705036, 29.933620501843244),\n",
    "    (\"Cayirova\", 40.830382019716, 29.380401676259332),\n",
    "    (\"Darica\", 40.7600883666749, 29.387239192303017),\n",
    "    (\"Derince\", 40.757516, 29.830541),\n",
    "    (\"Dilovasi\", 40.7850965042359, 29.541230261997992),\n",
    "    (\"Gebze\", 40.80588765893982, 29.440179788387027),\n",
    "    (\"Golcuk\", 40.716959302302, 29.823147614264997),\n",
    "    (\"Kandira\", 41.06991738429962, 30.15273914243682),\n",
    "    (\"Karamursel\", 40.6918461228011, 29.617083789154567),\n",
    "    (\"Kartepe\", 40.735109846679414, 30.029053202182066),\n",
    "    (\"Korfez\", 40.7727000302291, 29.746152910460705),\n",
    "    (\"Izmit\", 40.76466622780627, 29.929899866354628),\n",
    "]\n",
    "\n",
    "cur.executemany(\"insert into station values (null, ?, ?, ?)\", ilce_konum_list)\n",
    "con.commit()\n"
   ]
  },
  {
   "cell_type": "code",
   "execution_count": 20,
   "metadata": {},
   "outputs": [
    {
     "name": "stdout",
     "output_type": "stream",
     "text": [
      "[(1, 0, 2.0, 3.0), (2, 'Basiskele', 40.714563454705036, 29.933620501843244), (3, 'Cayirova', 40.830382019716, 29.380401676259332), (4, 'Darica', 40.7600883666749, 29.387239192303017), (5, 'Derince', 40.757516, 29.830541), (6, 'Dilovasi', 40.7850965042359, 29.541230261997992), (7, 'Gebze', 40.80588765893982, 29.440179788387027), (8, 'Golcuk', 40.716959302302, 29.823147614264997), (9, 'Kandira', 41.06991738429962, 30.15273914243682), (10, 'Karamursel', 40.6918461228011, 29.617083789154567), (11, 'Kartepe', 40.735109846679414, 30.029053202182066), (12, 'Korfez', 40.7727000302291, 29.746152910460705), (13, 'Izmit', 40.76466622780627, 29.929899866354628)]\n"
     ]
    }
   ],
   "source": [
    "cur.execute(\"select * from station\")\n",
    "print(cur.fetchall())"
   ]
  },
  {
   "cell_type": "code",
   "execution_count": 21,
   "metadata": {},
   "outputs": [],
   "source": [
    "con.close()"
   ]
  }
 ],
 "metadata": {
  "interpreter": {
   "hash": "0891a06236dcc1030cb1280786148134baea7642bf397307c9a9c4f3bb7d2bda"
  },
  "kernelspec": {
   "display_name": "Python 3.10.4 ('env': venv)",
   "language": "python",
   "name": "python3"
  },
  "language_info": {
   "codemirror_mode": {
    "name": "ipython",
    "version": 3
   },
   "file_extension": ".py",
   "mimetype": "text/x-python",
   "name": "python",
   "nbconvert_exporter": "python",
   "pygments_lexer": "ipython3",
   "version": "3.10.4"
  },
  "orig_nbformat": 4
 },
 "nbformat": 4,
 "nbformat_minor": 2
}
